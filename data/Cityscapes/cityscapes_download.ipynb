{
 "cells": [
  {
   "cell_type": "markdown",
   "metadata": {},
   "source": [
    "### Note: Programmatic Downloading is not alloed for the Cityscapes dataset, please sign up for an account and use the command prompt to download yourself. "
   ]
  },
  {
   "cell_type": "code",
   "execution_count": null,
   "metadata": {
    "vscode": {
     "languageId": "shellscript"
    }
   },
   "outputs": [],
   "source": [
    "#Replace 'myusername' and \"mypassword\" to your own info\n",
    "wget --keep-session-cookies --save-cookies=cookies.txt --post-data 'username=myusername&password=mypassword&submit=Login' https://www.cityscapes-dataset.com/login/"
   ]
  },
  {
   "cell_type": "code",
   "execution_count": null,
   "metadata": {
    "vscode": {
     "languageId": "shellscript"
    }
   },
   "outputs": [],
   "source": [
    "wget --load-cookies cookies.txt --content-disposition https://www.cityscapes-dataset.com/file-handling/?packageID=1"
   ]
  },
  {
   "cell_type": "code",
   "execution_count": null,
   "metadata": {
    "vscode": {
     "languageId": "shellscript"
    }
   },
   "outputs": [],
   "source": [
    "wget --load-cookies cookies.txt --content-disposition https://www.cityscapes-dataset.com/file-handling/?packageID=3"
   ]
  },
  {
   "cell_type": "markdown",
   "metadata": {},
   "source": [
    "For Cell 2 and 3 above, packageID=1 or packageID = 2 will download the file gtFine_trainvaltest.zip\n",
    "You can change it to download another package. packageIDs map like this:\n",
    "\n",
    "1 -> gtFine_trainvaltest.zip (241MB)  \n",
    "2 -> gtCoarse.zip (1.3GB)  \n",
    "3 -> leftImg8bit_trainvaltest.zip (11GB)  \n",
    "4 -> leftImg8bit_trainextra.zip (44GB)  \n",
    "8 -> camera_trainvaltest.zip (2MB)  \n",
    "9 -> camera_trainextra.zip (8MB)  \n",
    "10 -> vehicle_trainvaltest.zip (2MB)  \n",
    "11 -> vehicle_trainextra.zip (7MB)  \n",
    "12 -> leftImg8bit_demoVideo.zip (6.6GB)  \n",
    "28 -> gtBbox_cityPersons_trainval.zip (2.2MB)  \n",
    "\n",
    "\n",
    "\n",
    "FOR MORE FILES LIKE THE Panoptic one, please visit the below link to download:\n",
    "https://www.cityscapes-dataset.com/downloads/"
   ]
  }
 ],
 "metadata": {
  "kernelspec": {
   "display_name": "Python 3",
   "language": "python",
   "name": "python3"
  },
  "language_info": {
   "codemirror_mode": {
    "name": "ipython",
    "version": 3
   },
   "file_extension": ".py",
   "mimetype": "text/x-python",
   "name": "python",
   "nbconvert_exporter": "python",
   "pygments_lexer": "ipython3",
   "version": "3.13.2"
  }
 },
 "nbformat": 4,
 "nbformat_minor": 2
}
