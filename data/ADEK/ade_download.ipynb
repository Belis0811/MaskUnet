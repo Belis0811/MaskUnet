{
 "cells": [
  {
   "cell_type": "markdown",
   "metadata": {
    "vscode": {
     "languageId": "plaintext"
    }
   },
   "source": [
    "## Run the following command via Terminal to download the dataset OR run the Python code below"
   ]
  },
  {
   "cell_type": "code",
   "execution_count": 2,
   "metadata": {
    "vscode": {
     "languageId": "shellscript"
    }
   },
   "outputs": [
    {
     "ename": "SyntaxError",
     "evalue": "invalid syntax (2337694951.py, line 1)",
     "output_type": "error",
     "traceback": [
      "\u001b[1;36m  Cell \u001b[1;32mIn[2], line 1\u001b[1;36m\u001b[0m\n\u001b[1;33m    wget http://data.csail.mit.edu/places/ADEchallenge/ADEChallengeData2016.zip\u001b[0m\n\u001b[1;37m         ^\u001b[0m\n\u001b[1;31mSyntaxError\u001b[0m\u001b[1;31m:\u001b[0m invalid syntax\n"
     ]
    }
   ],
   "source": [
    "wget http://data.csail.mit.edu/places/ADEchallenge/ADEChallengeData2016.zip\n",
    "unzip ADEChallengeData2016.zip"
   ]
  },
  {
   "cell_type": "code",
   "execution_count": null,
   "metadata": {
    "vscode": {
     "languageId": "shellscript"
    }
   },
   "outputs": [
    {
     "name": "stdout",
     "output_type": "stream",
     "text": [
      "Downloading ADE Challenge Dataset...\n"
     ]
    },
    {
     "name": "stderr",
     "output_type": "stream",
     "text": [
      "ADEChallengeData2016.zip: 100%|██████████| 923M/923M [01:44<00:00, 9.24MB/s]  \n"
     ]
    },
    {
     "name": "stdout",
     "output_type": "stream",
     "text": [
      "Extracting zip file...\n",
      "Download and extraction complete. Files extracted to current directory.\n"
     ]
    }
   ],
   "source": [
    "#Run THE CODE HERE !!!!!!!!!\n",
    "\n",
    "\n",
    "import requests\n",
    "import zipfile\n",
    "import os\n",
    "import shutil\n",
    "from tqdm import tqdm\n",
    "\n",
    "# URL of the dataset\n",
    "url = \"http://data.csail.mit.edu/places/ADEchallenge/ADEChallengeData2016.zip\"\n",
    "\n",
    "# Path to save the zip file\n",
    "zip_path = \"ADEChallengeData2016.zip\"\n",
    "\n",
    "# Download the file with progress bar\n",
    "print(\"Downloading ADE Challenge Dataset...\")\n",
    "response = requests.get(url, stream=True)\n",
    "total_size = int(response.headers.get('content-length', 0))\n",
    "\n",
    "with open(zip_path, 'wb') as file, tqdm(\n",
    "    desc=zip_path,\n",
    "    total=total_size,\n",
    "    unit='B',\n",
    "    unit_scale=True,\n",
    "    unit_divisor=1024,\n",
    ") as bar:\n",
    "    for data in response.iter_content(chunk_size=1024):\n",
    "        size = file.write(data)\n",
    "        bar.update(size)\n",
    "\n",
    "# Extract the zip file\n",
    "print(\"Extracting zip file...\")\n",
    "with zipfile.ZipFile(zip_path, 'r') as zip_ref:\n",
    "    zip_ref.extractall(\".\")\n",
    "\n",
    "print(f\"Download and extraction complete. Files extracted to current directory.\")\n",
    "\n",
    "\n",
    "\n",
    "\n",
    "# Source and destination paths\n",
    "source_dir = \"ADEChallengeData2016\"\n",
    "annotations_src = os.path.join(source_dir, \"annotations\")\n",
    "images_src = os.path.join(source_dir, \"images\")\n",
    "\n",
    "\n",
    "parent_dir = \".\"  # Current directory\n",
    "\n",
    "# Move the folders\n",
    "if os.path.exists(annotations_src):\n",
    "    print(f\"Moving annotations folder...\")\n",
    "    if os.path.exists(os.path.join(parent_dir, \"annotations\")):\n",
    "        print(\"Warning: annotations folder already exists in destination!\")\n",
    "    else:\n",
    "        shutil.move(annotations_src, parent_dir)\n",
    "        print(\"Annotations folder moved successfully\")\n",
    "\n",
    "if os.path.exists(images_src):\n",
    "    print(f\"Moving images folder...\")\n",
    "    if os.path.exists(os.path.join(parent_dir, \"images\")):\n",
    "        print(\"Warning: images folder already exists in destination!\")\n",
    "    else:\n",
    "        shutil.move(images_src, parent_dir)\n",
    "        print(\"Images folder moved successfully\")\n",
    "\n",
    "print(\"Done moving folders\")\n",
    "\n",
    "#Clean up the current working directory\n",
    "folder_to_delete = \"ADEChallengeData2016\"\n",
    "shutil.rmtree(folder_to_delete)"
   ]
  }
 ],
 "metadata": {
  "kernelspec": {
   "display_name": "Python 3",
   "language": "python",
   "name": "python3"
  },
  "language_info": {
   "codemirror_mode": {
    "name": "ipython",
    "version": 3
   },
   "file_extension": ".py",
   "mimetype": "text/x-python",
   "name": "python",
   "nbconvert_exporter": "python",
   "pygments_lexer": "ipython3",
   "version": "3.13.2"
  }
 },
 "nbformat": 4,
 "nbformat_minor": 2
}
