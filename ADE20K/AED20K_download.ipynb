{
 "cells": [
  {
   "cell_type": "code",
   "execution_count": 1,
   "metadata": {},
   "outputs": [],
   "source": [
    "import os\n",
    "import random\n",
    "import shutil\n",
    "\n",
    "def create_ade20k_subset(\n",
    "    src_root,              # e.g. \"./data/ADE20K_traevl/images/ADE/training\"\n",
    "    dest_root,             # e.g. \"./data/ADE20K_subset/train\"\n",
    "    subset_size=10000,\n",
    "    image_exts=(\".jpg\", \".png\")\n",
    "):\n",
    "    \"\"\"\n",
    "    1) Recursively gather all image file paths from ADE20K's 'training' folder\n",
    "       which itself has multiple subfolders.\n",
    "    2) Randomly sample up to 'subset_size' of them.\n",
    "    3) Copy each image and its matching label file to a new subset folder structure.\n",
    "    \n",
    "    Note: This assumes your label files have the same name but with \"_seg.png\"\n",
    "          or something similar. If the naming is different, adapt the code accordingly.\n",
    "    \"\"\"\n",
    "    os.makedirs(dest_root, exist_ok=True)\n",
    "\n",
    "    # 1) Gather all images recursively\n",
    "    image_files = []\n",
    "    for root, dirs, files in os.walk(src_root):\n",
    "        for fname in files:\n",
    "            # If it's an image we care about\n",
    "            if fname.lower().endswith(image_exts):\n",
    "                full_path = os.path.join(root, fname)\n",
    "                image_files.append(full_path)\n",
    "\n",
    "    print(f\"Found {len(image_files)} total images in {src_root}.\")\n",
    "\n",
    "    # 2) Randomly sample\n",
    "    if len(image_files) > subset_size:\n",
    "        sampled_files = random.sample(image_files, subset_size)\n",
    "    else:\n",
    "        sampled_files = image_files\n",
    "\n",
    "    # 3) Copy images + corresponding labels\n",
    "    for img_path in sampled_files:\n",
    "        # Rebuild a relative path from src_root\n",
    "        rel_path = os.path.relpath(img_path, src_root)\n",
    "        # Destination image path\n",
    "        dest_img_path = os.path.join(dest_root, rel_path)\n",
    "        os.makedirs(os.path.dirname(dest_img_path), exist_ok=True)\n",
    "\n",
    "        # Copy the image\n",
    "        shutil.copy2(img_path, dest_img_path)\n",
    "\n",
    "        # Attempt to copy the matching label (if it exists)\n",
    "        # e.g., \"ADE_train_00001472.jpg\" -> \"ADE_train_00001472_seg.png\"\n",
    "        base, ext = os.path.splitext(img_path)\n",
    "        seg_name  = base + \"_seg.png\"  # or whatever your label naming is\n",
    "        if os.path.exists(seg_name):\n",
    "            rel_seg_path = os.path.relpath(seg_name, src_root)\n",
    "            dest_seg_path = os.path.join(dest_root, rel_seg_path)\n",
    "            os.makedirs(os.path.dirname(dest_seg_path), exist_ok=True)\n",
    "            shutil.copy2(seg_name, dest_seg_path)\n",
    "\n",
    "    print(f\"Subset of size {len(sampled_files)} created at {dest_root}\")\n"
   ]
  },
  {
   "cell_type": "code",
   "execution_count": 2,
   "metadata": {},
   "outputs": [
    {
     "name": "stdout",
     "output_type": "stream",
     "text": [
      "Found 701150 total images in ./data/ADE20K_traevl/images/ADE/training.\n",
      "Subset of size 10000 created at ./data/ADE20K_subset/train\n",
      "Found 79076 total images in ./data/ADE20K_traevl/images/ADE/validation.\n",
      "Subset of size 10000 created at ./data/ADE20K_subset/validation\n"
     ]
    }
   ],
   "source": [
    "\n",
    "src_training = \"./data/ADE20K_traevl/images/ADE/training\"\n",
    "dest_training_subset = \"./data/ADE20K_subset/train\"\n",
    "\n",
    "src_validation = \"./data/ADE20K_traevl/images/ADE/validation\"\n",
    "dest_validation_subset = \"./data/ADE20K_subset/validation\"\n",
    "\n",
    "\n",
    "create_ade20k_subset(\n",
    "    src_root=src_training,\n",
    "    dest_root=dest_training_subset,\n",
    "    subset_size=10000,\n",
    "    image_exts=(\".jpg\", \".png\")\n",
    ")\n",
    "\n",
    "create_ade20k_subset(\n",
    "    src_root=src_validation,\n",
    "    dest_root=dest_validation_subset,\n",
    "    subset_size=10000,\n",
    "    image_exts=(\".jpg\", \".png\")\n",
    ")\n"
   ]
  }
 ],
 "metadata": {
  "kernelspec": {
   "display_name": "Python 3",
   "language": "python",
   "name": "python3"
  },
  "language_info": {
   "codemirror_mode": {
    "name": "ipython",
    "version": 3
   },
   "file_extension": ".py",
   "mimetype": "text/x-python",
   "name": "python",
   "nbconvert_exporter": "python",
   "pygments_lexer": "ipython3",
   "version": "3.13.2"
  }
 },
 "nbformat": 4,
 "nbformat_minor": 2
}
